{
 "cells": [
  {
   "cell_type": "code",
   "execution_count": 6,
   "metadata": {
    "pycharm": {
     "is_executing": false,
     "name": "#%%\n"
    }
   },
   "outputs": [
    {
     "data": {
      "text/plain": "                Status                                     Credit.history  \\\n0                <0 DM  critical account/other credits existing (not a...   \n1             0-200 DM           existing credits paid back duly till now   \n2  no checking account  critical account/other credits existing (not a...   \n3                <0 DM           existing credits paid back duly till now   \n4                <0 DM                    delay in paying off in the past   \n\n                        Purpose              Savings.account  \\\n0           domestic appliances  unknown/ no savings account   \n1           domestic appliances                      <100 DM   \n2  (vacation - does not exist?)                      <100 DM   \n3              radio/television                      <100 DM   \n4                     car (new)                      <100 DM   \n\n   Installment.rate             Personal.status.and.sex  \\\n0                 4                        male: single   \n1                 2  female: divorced/separated/married   \n2                 2                        male: single   \n3                 2                        male: single   \n4                 3                        male: single   \n\n   Number.of.existing.credits                          Job  Number.of.people  \\\n0                           2  skilled employee / official                 1   \n1                           1  skilled employee / official                 1   \n2                           1         unskilled - resident                 2   \n3                           1  skilled employee / official                 2   \n4                           2  skilled employee / official                 2   \n\n  foreign.worker  Class  \n0            yes      1  \n1            yes      2  \n2            yes      1  \n3            yes      1  \n4            yes      2  ",
      "text/html": "<div>\n<style scoped>\n    .dataframe tbody tr th:only-of-type {\n        vertical-align: middle;\n    }\n\n    .dataframe tbody tr th {\n        vertical-align: top;\n    }\n\n    .dataframe thead th {\n        text-align: right;\n    }\n</style>\n<table border=\"1\" class=\"dataframe\">\n  <thead>\n    <tr style=\"text-align: right;\">\n      <th></th>\n      <th>Status</th>\n      <th>Credit.history</th>\n      <th>Purpose</th>\n      <th>Savings.account</th>\n      <th>Installment.rate</th>\n      <th>Personal.status.and.sex</th>\n      <th>Number.of.existing.credits</th>\n      <th>Job</th>\n      <th>Number.of.people</th>\n      <th>foreign.worker</th>\n      <th>Class</th>\n    </tr>\n  </thead>\n  <tbody>\n    <tr>\n      <th>0</th>\n      <td>&lt;0 DM</td>\n      <td>critical account/other credits existing (not a...</td>\n      <td>domestic appliances</td>\n      <td>unknown/ no savings account</td>\n      <td>4</td>\n      <td>male: single</td>\n      <td>2</td>\n      <td>skilled employee / official</td>\n      <td>1</td>\n      <td>yes</td>\n      <td>1</td>\n    </tr>\n    <tr>\n      <th>1</th>\n      <td>0-200 DM</td>\n      <td>existing credits paid back duly till now</td>\n      <td>domestic appliances</td>\n      <td>&lt;100 DM</td>\n      <td>2</td>\n      <td>female: divorced/separated/married</td>\n      <td>1</td>\n      <td>skilled employee / official</td>\n      <td>1</td>\n      <td>yes</td>\n      <td>2</td>\n    </tr>\n    <tr>\n      <th>2</th>\n      <td>no checking account</td>\n      <td>critical account/other credits existing (not a...</td>\n      <td>(vacation - does not exist?)</td>\n      <td>&lt;100 DM</td>\n      <td>2</td>\n      <td>male: single</td>\n      <td>1</td>\n      <td>unskilled - resident</td>\n      <td>2</td>\n      <td>yes</td>\n      <td>1</td>\n    </tr>\n    <tr>\n      <th>3</th>\n      <td>&lt;0 DM</td>\n      <td>existing credits paid back duly till now</td>\n      <td>radio/television</td>\n      <td>&lt;100 DM</td>\n      <td>2</td>\n      <td>male: single</td>\n      <td>1</td>\n      <td>skilled employee / official</td>\n      <td>2</td>\n      <td>yes</td>\n      <td>1</td>\n    </tr>\n    <tr>\n      <th>4</th>\n      <td>&lt;0 DM</td>\n      <td>delay in paying off in the past</td>\n      <td>car (new)</td>\n      <td>&lt;100 DM</td>\n      <td>3</td>\n      <td>male: single</td>\n      <td>2</td>\n      <td>skilled employee / official</td>\n      <td>2</td>\n      <td>yes</td>\n      <td>2</td>\n    </tr>\n  </tbody>\n</table>\n</div>"
     },
     "metadata": {},
     "output_type": "execute_result",
     "execution_count": 6
    }
   ],
   "source": [
    "import pandas as pd\n",
    "df = pd.read_csv('../data/V2.csv', encoding='utf-8', delimiter=';')\n",
    "del df[df.columns[0]]\n",
    "df.head()"
   ]
  },
  {
   "cell_type": "code",
   "execution_count": 7,
   "outputs": [
    {
     "name": "stdout",
     "text": [
      "<class 'pandas.core.frame.DataFrame'>\n",
      "RangeIndex: 1000 entries, 0 to 999\n",
      "Data columns (total 11 columns):\n",
      " #   Column                      Non-Null Count  Dtype \n",
      "---  ------                      --------------  ----- \n",
      " 0   Status                      1000 non-null   object\n",
      " 1   Credit.history              1000 non-null   object\n",
      " 2   Purpose                     1000 non-null   object\n",
      " 3   Savings.account             1000 non-null   object\n",
      " 4   Installment.rate            1000 non-null   int64 \n",
      " 5   Personal.status.and.sex     1000 non-null   object\n",
      " 6   Number.of.existing.credits  1000 non-null   int64 \n",
      " 7   Job                         1000 non-null   object\n",
      " 8   Number.of.people            1000 non-null   int64 \n",
      " 9   foreign.worker              1000 non-null   object\n",
      " 10  Class                       1000 non-null   int64 \n",
      "dtypes: int64(4), object(7)\n",
      "memory usage: 86.1+ KB\n"
     ],
     "output_type": "stream"
    }
   ],
   "source": [
    "df.info()"
   ],
   "metadata": {
    "collapsed": false,
    "pycharm": {
     "name": "#%%\n",
     "is_executing": false
    }
   }
  },
  {
   "cell_type": "code",
   "execution_count": 25,
   "outputs": [],
   "source": [
    "replace_map = {}\n",
    "for column in df.columns:\n",
    "    labels = df[column].astype('category').cat.categories.tolist()\n",
    "    replace_map_temp = {column : {k: v for k,v in zip(labels,list(range(1,len(labels)+1)))}}\n",
    "    replace_map = {**replace_map, **replace_map_temp}"
   ],
   "metadata": {
    "collapsed": false,
    "pycharm": {
     "name": "#%%\n",
     "is_executing": false
    }
   }
  },
  {
   "cell_type": "code",
   "execution_count": 27,
   "outputs": [
    {
     "data": {
      "text/plain": "{'Status': {'0-200 DM': 1,\n  '<0 DM': 2,\n  '>=200 DM': 3,\n  'no checking account': 4},\n 'Credit.history': {'all credits at this bank paid back duly': 1,\n  'critical account/other credits existing (not at this bank)': 2,\n  'delay in paying off in the past': 3,\n  'existing credits paid back duly till now': 4,\n  'no credits taken/all credits paid back duly': 5},\n 'Purpose': {'(vacation - does not exist?)': 1,\n  'business': 2,\n  'car (new)': 3,\n  'car (used)': 4,\n  'domestic appliances': 5,\n  'education': 6,\n  'furniture/equipment': 7,\n  'radio/television': 8,\n  'repairs': 9,\n  'retraining': 10},\n 'Savings.account': {'100-500 DM': 1,\n  '500-1000 DM': 2,\n  '<100 DM': 3,\n  '>=1000 DM': 4,\n  'unknown/ no savings account': 5},\n 'Installment.rate': {1: 1, 2: 2, 3: 3, 4: 4},\n 'Personal.status.and.sex': {'female: divorced/separated/married': 1,\n  'male: divorced/separated': 2,\n  'male: married/widowed': 3,\n  'male: single': 4},\n 'Number.of.existing.credits': {1: 1, 2: 2, 3: 3, 4: 4},\n 'Job': {'management/ self-employed/highly qualified employee/ officer': 1,\n  'skilled employee / official': 2,\n  'unemployed/ unskilled  - non-resident': 3,\n  'unskilled - resident': 4},\n 'Number.of.people': {1: 1, 2: 2},\n 'foreign.worker': {'no': 1, 'yes': 2},\n 'Class': {1: 1, 2: 2}}"
     },
     "metadata": {},
     "output_type": "execute_result",
     "execution_count": 27
    }
   ],
   "source": [
    "replace_map"
   ],
   "metadata": {
    "collapsed": false,
    "pycharm": {
     "name": "#%%\n",
     "is_executing": false
    }
   }
  },
  {
   "cell_type": "code",
   "execution_count": null,
   "outputs": [],
   "source": [
    "\n"
   ],
   "metadata": {
    "collapsed": false,
    "pycharm": {
     "name": "#%%\n"
    }
   }
  }
 ],
 "metadata": {
  "kernelspec": {
   "name": "python3",
   "language": "python",
   "display_name": "Python 3"
  },
  "language_info": {
   "codemirror_mode": {
    "name": "ipython",
    "version": 3
   },
   "file_extension": ".py",
   "mimetype": "text/x-python",
   "name": "python",
   "nbconvert_exporter": "python",
   "pygments_lexer": "ipython3",
   "version": "3.7.4"
  },
  "pycharm": {
   "stem_cell": {
    "cell_type": "raw",
    "source": [],
    "metadata": {
     "collapsed": false
    }
   }
  }
 },
 "nbformat": 4,
 "nbformat_minor": 2
}